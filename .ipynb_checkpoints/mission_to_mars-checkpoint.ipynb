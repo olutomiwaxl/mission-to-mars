{
 "cells": [
  {
   "cell_type": "markdown",
   "metadata": {},
   "source": [
    "# Step 1 - Scraping\n"
   ]
  },
  {
   "cell_type": "code",
   "execution_count": 5,
   "metadata": {},
   "outputs": [],
   "source": [
    "from splinter import Browser\n",
    "from splinter.exceptions import ElementDoesNotExist\n",
    "from bs4 import BeautifulSoup\n",
    "import requests\n",
    "import pandas as pd\n",
    "from datetime import datetime as dt"
   ]
  },
  {
   "cell_type": "code",
   "execution_count": 6,
   "metadata": {},
   "outputs": [
    {
     "name": "stdout",
     "output_type": "stream",
     "text": [
      "/usr/local/bin/chromedriver\r\n"
     ]
    }
   ],
   "source": [
    "#initialize chrome driver\n",
    "!which chromedriver"
   ]
  },
  {
   "cell_type": "code",
   "execution_count": 9,
   "metadata": {},
   "outputs": [
    {
     "data": {
      "text/plain": [
       "[{'news_title': 'NASA Social Media and Websites Win Webby Awards ',\n",
       "  'news_p': 'NASA\\'s social media presence, the InSight mission social media accounts, NASA.gov and SolarSystem.NASA.gov will be honored at the 2019 Webby Awards - \"the Oscars of the Internet.\"'},\n",
       " {'news_title': \"NASA's InSight Detects First Likely 'Quake' on Mars\",\n",
       "  'news_p': 'While their causes are still unknown, one of three shaking events looks a lot like the quakes detected on the Moon by the Apollo missions.'},\n",
       " {'news_title': \"Things Are Stacking up for NASA's Mars 2020 Spacecraft\",\n",
       "  'news_p': 'As the July 2020 launch date inches closer, the next spacecraft headed to the Red Planet is assembled for more testing.'},\n",
       " {'news_title': \"Curiosity Tastes First Sample in 'Clay-Bearing Unit'\",\n",
       "  'news_p': 'This new region on Mars might reveal more about the role of water on Mount Sharp.'},\n",
       " {'news_title': \"More Testing for Mars InSight's 'Mole'\",\n",
       "  'news_p': \"After the mission's heat probe began hammering last week, it appears to have hit a rock. The team is analyzing data before they hammer again.\"},\n",
       " {'news_title': 'NASA Garners 7 Webby Award Nominations',\n",
       "  'news_p': 'Nominees include four JPL projects: the solar system and climate websites, InSight social media, and a 360-degree Earth video. Public voting closes April 18, 2019.'},\n",
       " {'news_title': 'Curiosity Captured Two Solar Eclipses on Mars',\n",
       "  'news_p': 'Observing the Martian moons Phobos and Deimos crossing in front of the Sun helps scientists better understand their orbits.'},\n",
       " {'news_title': \"NASA's Mars Helicopter Completes Flight Tests\",\n",
       "  'news_p': 'The first helicopter to fly on Mars had its first flight on Earth.'},\n",
       " {'news_title': 'Asteroids, Hydrogen Make Great Recipe for Life on Mars',\n",
       "  'news_p': 'Laser blasts in lab tests suggest asteroid bombardment could have provided key ingredients for life on ancient Mars.'},\n",
       " {'news_title': \"Catch NASA's JPL at the Clippers SciFest This Weekend\",\n",
       "  'news_p': \"Students and families can meet a Mars rover, take a virtual tour through our solar system and explore alien worlds with NASA's Jet Propulsion Laboratory at the Clippers SciFest SoCal.\"},\n",
       " {'news_title': \"NASA's Mars 2020 Rover Is Put to the Test\",\n",
       "  'news_p': \"In January, Mars 2020 engineers and technicians took over JPL's cleanroom to put the mission's cruise, entry capsule, descent stage and rover through their paces.\"},\n",
       " {'news_title': \"Opportunity's Parting Shot Was a Beautiful Panorama\",\n",
       "  'news_p': \"NASA declared the record-setting rover's mission complete on Feb. 13, 2019, but the final image from the rover has just been processed.\"},\n",
       " {'news_title': 'Curiosity Resumes Operations After Switching Computers',\n",
       "  'news_p': \"Curiosity experienced a computer reset on its Side-A computer on Wednesday, March 6, 2019 (Sol 2,339), that triggered the rover's safe mode.\"},\n",
       " {'news_title': 'InSight Lands Praise and a Proclamation from LA County',\n",
       "  'news_p': 'Several members of the Mars InSight team accepted a proclamation on behalf of the mission from L.A. County Board of Supervisors on Tuesday, Feb. 19.'},\n",
       " {'news_title': 'InSight Is the Newest Mars Weather Service',\n",
       "  'news_p': \"By collecting data around the clock, NASA's lander will provide unique science about the Martian surface.\"},\n",
       " {'news_title': \"Six Things to Know About NASA's Opportunity Rover\",\n",
       "  'news_p': \"Opportunity's mission is complete. Here are highlights from its time on Mars.\"},\n",
       " {'news_title': \"NASA's Opportunity Rover Mission on Mars Comes to End\",\n",
       "  'news_p': \"NASA's Opportunity Mars rover mission is complete after 15 years on Mars. Opportunity's record-breaking exploration laid the groundwork for future missions to the Red Planet.\"},\n",
       " {'news_title': \"NASA's InSight Prepares to Take Mars' Temperature\",\n",
       "  'news_p': \"The lander's second instrument is on the ground. But its ‘mole’ — a burrowing probe — has a long way to go.\"},\n",
       " {'news_title': 'NASA to Share Results of Effort to Recover Mars Rover',\n",
       "  'news_p': 'NASA will discuss the status of its Mars Exploration Rover Opportunity in a media briefing at 11 a.m. PST (2 p.m. EST) Wednesday, Feb. 13, from the Jet Propulsion Laboratory.'},\n",
       " {'news_title': \"NASA's MAVEN Spacecraft Shrinking its Mars Orbit to Prepare for Mars 2020 Rover\",\n",
       "  'news_p': 'The MAVEN spacecraft today is starting a campaign to tighten its orbit around Mars to prepare to serve as a data-relay satellite for NASA’s Mars 2020 rover, which launches next year.'},\n",
       " {'news_title': '360 Video: Curiosity Rover Departs Vera Rubin Ridge',\n",
       "  'news_p': \"This panorama from the Mast Camera (Mastcam) on NASA's Curiosity Mars rover was taken on Dec. 19 (Sol 2265). The rover's last drill location on Vera Rubin Ridge is visible, as well as the clay region it will spend the next year exploring.\"},\n",
       " {'news_title': 'Beyond Mars, the Mini MarCO Spacecraft Fall Silent',\n",
       "  'news_p': 'The first CubeSat mission to deep space may have reached their limit, but they could inspire future NASA missions.'},\n",
       " {'news_title': \"InSight's Seismometer Now Has a Cozy Shelter on Mars\",\n",
       "  'news_p': \"A domed shield has been set over one of InSight's primary science instruments, protecting it from Mars' wind and temperature changes.\"},\n",
       " {'news_title': '\"Mars Buggy\" Curiosity Measures a Mountain\\'s Gravity',\n",
       "  'news_p': 'Smartphone-like sensors on the NASA rover were used to calculate the density of Mount Sharp, offering new clues to its formation.'},\n",
       " {'news_title': \"Curiosity Says Farewell to Mars' Vera Rubin Ridge\",\n",
       "  'news_p': \"The Mars rover is moving on and has taken its last selfie on the ridge it's explored for more than a year.\"},\n",
       " {'news_title': 'Rover Team Beaming New Commands to Opportunity on Mars',\n",
       "  'news_p': 'Engineers at JPL have begun transmitting a new set of commands to Opportunity in an attempt to compel the Mars rover to contact Earth.'},\n",
       " {'news_title': \"NASA's Opportunity Rover Logs 15 Years on Mars\",\n",
       "  'news_p': 'The rover landed in a region of the Red Planet called Meridiani Planum 16 years ago today, on Jan. 24, 2004.'},\n",
       " {'news_title': \"NASA's InSight Places First Instrument on Mars\",\n",
       "  'news_p': 'In deploying its first instrument onto the surface of Mars, the lander completes a major mission milestone.'},\n",
       " {'news_title': 'InSight Engineers Have Made a Martian Rock Garden',\n",
       "  'news_p': \"Reconstructing Mars here on Earth lets them practice setting down the lander's science instruments.\"},\n",
       " {'news_title': 'Mars InSight Lander Seen in First Images from Space ',\n",
       "  'news_p': \"Look closely, and you can make out the lander's solar panels.\"},\n",
       " {'news_title': \"NASA's InSight Takes Its First Selfie\",\n",
       "  'news_p': 'Two new image mosaics detail the lander\\'s deck and \"workspace\" — the surface where it will eventually set down its science instruments.'},\n",
       " {'news_title': \"NASA InSight Lander 'Hears' Martian Winds \",\n",
       "  'news_p': 'Vibrations picked up by two spacecraft instruments have provided the first sounds of Martian wind.'},\n",
       " {'news_title': \"NASA's Mars InSight Flexes Its Arm\",\n",
       "  'news_p': \"Now unstowed, the spacecraft's robotic arm will point a camera located on its elbow and take images of the surroundings.\"},\n",
       " {'news_title': \"Mars New Home 'a Large Sandbox'\",\n",
       "  'news_p': \"With InSight safely on the surface of Mars, the mission team is busy learning more about the spacecraft's landing site.\"},\n",
       " {'news_title': 'NASA Hears MarCO CubeSats Loud and Clear from Mars ',\n",
       "  'news_p': \"A pair of tiny, experimental spacecraft fulfilled their mission yesterday, relaying back near-real-time data during InSight's landing.\"},\n",
       " {'news_title': 'InSight Is Catching Rays on Mars',\n",
       "  'news_p': 'The lander has sent data indicating its solar panels are open and receiving sunlight to power its surface operations.'},\n",
       " {'news_title': 'NASA InSight Lander Arrives on Martian Surface ',\n",
       "  'news_p': 'The touchdown marks the eighth time NASA has successfully landed a spacecraft on Mars.'},\n",
       " {'news_title': 'Landing Day for InSight',\n",
       "  'news_p': \"NASA's InSight spacecraft is on target for Mars landing at around noon PST today.\"},\n",
       " {'news_title': 'NASA InSight Landing on Mars: Milestones',\n",
       "  'news_p': \"On Nov. 26, NASA's InSight spacecraft will blaze through the Martian atmosphere and set a lander gently on the surface in less time than it takes to cook a hard-boiled egg.\"},\n",
       " {'news_title': 'NASA InSight Team on Course for Mars Touchdown',\n",
       "  'news_p': \"NASA's Mars InSight spacecraft is on track for a soft touchdown on the surface of the Red Planet on Nov. 26.\"}]"
      ]
     },
     "execution_count": 9,
     "metadata": {},
     "output_type": "execute_result"
    }
   ],
   "source": [
    "#create splinter path\n",
    "executable_path = {'executable_path': \"/usr/local/bin/chromedriver\"}\n",
    "browser = Browser('chrome', **executable_path, headless=False)\n",
    "\n",
    "# URL of page to be scraped\n",
    "url = 'https://mars.nasa.gov/news/'\n",
    "\n",
    "# create new empty list to append data into\n",
    "mars_news = []\n",
    "\n",
    "browser.visit(url)\n",
    "\n",
    "html = browser.html\n",
    "soup= BeautifulSoup(html, 'html.parser')\n",
    "\n",
    "# Retrieve the class where the list of articles are\n",
    "results = soup.find_all(class_='slide')\n",
    "#loop through the result to append each result and create a dictionary \n",
    "for result in results:\n",
    "    news_title = result.find(class_='content_title').text\n",
    "\n",
    "    try:\n",
    "        news_p = result.find(class_='article_teaser_body').text\n",
    "        result_dict = {\n",
    "            \"news_title\":   news_title,\n",
    "            \"news_p\": news_p,\n",
    "        }\n",
    "        mars_news.append(result_dict)\n",
    "    except:\n",
    "        \n",
    "        continue\n",
    "\n",
    "browser.quit()\n",
    "mars_news"
   ]
  },
  {
   "cell_type": "code",
   "execution_count": 16,
   "metadata": {},
   "outputs": [],
   "source": [
    "\n",
    "# Use splinter to navigate the site and find the image url for the current Featured Mars Image\n",
    "# and assign the url string to a variable\n",
    "executable_path = {'executable_path': '/usr/local/bin/chromedriver'}\n",
    "browser = Browser('chrome', **executable_path, headless=False)\n",
    "\n",
    "# first page\n",
    "\n",
    "image_url = 'https://www.jpl.nasa.gov/spaceimages/?search=&category=Mars'\n",
    "\n",
    "browser.visit(image_url)\n",
    "#splinter to click full image\n",
    "browser.click_link_by_partial_text('FULL IMAGE')\n",
    "\n"
   ]
  },
  {
   "cell_type": "code",
   "execution_count": 17,
   "metadata": {},
   "outputs": [],
   "source": [
    "#splinter to click more info\n",
    "browser.click_link_by_partial_text('more info')\n",
    "\n"
   ]
  },
  {
   "cell_type": "code",
   "execution_count": 18,
   "metadata": {},
   "outputs": [
    {
     "name": "stdout",
     "output_type": "stream",
     "text": [
      "https://photojournal.jpl.nasa.gov/jpeg/PIA19330.jpg\n"
     ]
    }
   ],
   "source": [
    "#get image url\n",
    "html = browser.html\n",
    "soup = BeautifulSoup(html, 'html.parser')\n",
    "\n",
    "jpegs = soup.find_all('div', class_='download_tiff')\n",
    "\n",
    "for x in jpegs:\n",
    "    if \"JPG\" in x.text:\n",
    "        featured_image_url = x.find('a')['href']\n",
    "    else:\n",
    "        continue \n",
    "\n",
    "featured_image_url =  'https:'+ featured_image_url\n",
    "browser.quit()\n",
    "print(featured_image_url)\n"
   ]
  },
  {
   "cell_type": "code",
   "execution_count": 24,
   "metadata": {},
   "outputs": [
    {
     "name": "stdout",
     "output_type": "stream",
     "text": [
      "InSight sol 149 (2019-04-28) low -98.8ºC (-145.8ºF) high -19.5ºC (-3.0ºF)\n",
      "winds from the SW at 4.6 m/s (10.2 mph) gusting to 14.2 m/s (31.7 mph)\n",
      "pressure at 7.40 hPapic.twitter.com/IaUxdVEgb7\n"
     ]
    }
   ],
   "source": [
    "#initialize splinter again\n",
    "executable_path = {'executable_path': '/usr/local/bin/chromedriver'}\n",
    "browser = Browser('chrome', **executable_path, headless=False)\n",
    "\n",
    "twitter_url = \"https://twitter.com/marswxreport?lang=en\"\n",
    "\n",
    "browser.visit(twitter_url)\n",
    "#read the first tweet and save the text \n",
    "html = browser.html\n",
    "soup= BeautifulSoup(html, 'html.parser')\n",
    "\n",
    "twitter_result = soup.find_all('div', class_='js-tweet-text-container', limit=1)\n",
    "for result in twitter_result:\n",
    "    mars_weather = result.find('p').text\n",
    "\n",
    "browser.quit()\n",
    "print(mars_weather)\n"
   ]
  },
  {
   "cell_type": "code",
   "execution_count": 66,
   "metadata": {},
   "outputs": [
    {
     "data": {
      "text/html": [
       "<div>\n",
       "<style scoped>\n",
       "    .dataframe tbody tr th:only-of-type {\n",
       "        vertical-align: middle;\n",
       "    }\n",
       "\n",
       "    .dataframe tbody tr th {\n",
       "        vertical-align: top;\n",
       "    }\n",
       "\n",
       "    .dataframe thead th {\n",
       "        text-align: right;\n",
       "    }\n",
       "</style>\n",
       "<table border=\"1\" class=\"dataframe\">\n",
       "  <thead>\n",
       "    <tr style=\"text-align: right;\">\n",
       "      <th></th>\n",
       "      <th>description</th>\n",
       "      <th>value</th>\n",
       "    </tr>\n",
       "  </thead>\n",
       "  <tbody>\n",
       "    <tr>\n",
       "      <th>0</th>\n",
       "      <td>Equatorial Diameter:</td>\n",
       "      <td>6,792 km</td>\n",
       "    </tr>\n",
       "    <tr>\n",
       "      <th>1</th>\n",
       "      <td>Polar Diameter:</td>\n",
       "      <td>6,752 km</td>\n",
       "    </tr>\n",
       "    <tr>\n",
       "      <th>2</th>\n",
       "      <td>Mass:</td>\n",
       "      <td>6.42 x 10^23 kg (10.7% Earth)</td>\n",
       "    </tr>\n",
       "    <tr>\n",
       "      <th>3</th>\n",
       "      <td>Moons:</td>\n",
       "      <td>2 (Phobos &amp; Deimos)</td>\n",
       "    </tr>\n",
       "    <tr>\n",
       "      <th>4</th>\n",
       "      <td>Orbit Distance:</td>\n",
       "      <td>227,943,824 km (1.52 AU)</td>\n",
       "    </tr>\n",
       "    <tr>\n",
       "      <th>5</th>\n",
       "      <td>Orbit Period:</td>\n",
       "      <td>687 days (1.9 years)</td>\n",
       "    </tr>\n",
       "    <tr>\n",
       "      <th>6</th>\n",
       "      <td>Surface Temperature:</td>\n",
       "      <td>-153 to 20 °C</td>\n",
       "    </tr>\n",
       "    <tr>\n",
       "      <th>7</th>\n",
       "      <td>First Record:</td>\n",
       "      <td>2nd millennium BC</td>\n",
       "    </tr>\n",
       "    <tr>\n",
       "      <th>8</th>\n",
       "      <td>Recorded By:</td>\n",
       "      <td>Egyptian astronomers</td>\n",
       "    </tr>\n",
       "  </tbody>\n",
       "</table>\n",
       "</div>"
      ],
      "text/plain": [
       "            description                          value\n",
       "0  Equatorial Diameter:                       6,792 km\n",
       "1       Polar Diameter:                       6,752 km\n",
       "2                 Mass:  6.42 x 10^23 kg (10.7% Earth)\n",
       "3                Moons:            2 (Phobos & Deimos)\n",
       "4       Orbit Distance:       227,943,824 km (1.52 AU)\n",
       "5         Orbit Period:           687 days (1.9 years)\n",
       "6  Surface Temperature:                  -153 to 20 °C\n",
       "7         First Record:              2nd millennium BC\n",
       "8          Recorded By:           Egyptian astronomers"
      ]
     },
     "execution_count": 66,
     "metadata": {},
     "output_type": "execute_result"
    }
   ],
   "source": [
    "#use pandas to read the first table on the webpage and rename columns\n",
    "facts_table = pd.read_html(\"https://space-facts.com/mars/\")[0]\n",
    "facts_table.columns = ['description','value']\n",
    "facts_table"
   ]
  },
  {
   "cell_type": "code",
   "execution_count": 68,
   "metadata": {},
   "outputs": [],
   "source": [
    "astrogeology= 'https://astrogeology.usgs.gov/search/results?q=hemisphere+enhanced&k1=target&v1=Mars'\n",
    "\n",
    "# create empty list to append the dictionaries\n",
    "hemisphere_image_urls = []\n",
    "\n",
    "# initialize splinter\n",
    "executable_path = {'executable_path': \"/usr/local/bin/chromedriver\"}\n",
    "browser = Browser('chrome', **executable_path, headless=False)\n",
    "browser.visit(astrogeology)\n",
    "\n",
    "response = requests.get(astrogeology)\n",
    "soup = BeautifulSoup(response.text, 'html.parser')\n",
    "\n",
    "# Retrieve the parent divs for all articles\n",
    "results = soup.find_all(class_='itemLink')\n",
    "\n",
    "# lopp through each item\n",
    "for result in results:\n",
    "    #record the title\n",
    "    title = result.find(class_='description').text\n",
    "    #click the title\n",
    "    browser.click_link_by_partial_text(title)\n",
    "    html = browser.html\n",
    "    #create another beautiful soup for new page\n",
    "    soup_result = BeautifulSoup(html, 'html.parser')\n",
    "    image_urls = soup_result.find(class_='content').find(class_='block').find('dl').find('dd').find_next('dd')\n",
    "    for image_url in image_urls:\n",
    "        try:\n",
    "            img_url = image_url ['href']\n",
    "            hemisphere_dict = {\n",
    "                \"title\":   title,\n",
    "                \"img_url\": img_url,\n",
    "            }\n",
    "            hemisphere_image_urls.append(hemisphere_dict)\n",
    "        except:\n",
    "            continue\n",
    "#   always go back to the initial url window\n",
    "    browser.back()\n",
    "# close browser \n",
    "browser.quit()"
   ]
  },
  {
   "cell_type": "code",
   "execution_count": 69,
   "metadata": {},
   "outputs": [
    {
     "data": {
      "text/plain": [
       "[{'title': 'Cerberus Hemisphere Enhanced',\n",
       "  'img_url': 'http://astropedia.astrogeology.usgs.gov/download/Mars/Viking/cerberus_enhanced.tif'},\n",
       " {'title': 'Schiaparelli Hemisphere Enhanced',\n",
       "  'img_url': 'http://astropedia.astrogeology.usgs.gov/download/Mars/Viking/schiaparelli_enhanced.tif'},\n",
       " {'title': 'Syrtis Major Hemisphere Enhanced',\n",
       "  'img_url': 'http://astropedia.astrogeology.usgs.gov/download/Mars/Viking/syrtis_major_enhanced.tif'},\n",
       " {'title': 'Valles Marineris Hemisphere Enhanced',\n",
       "  'img_url': 'http://astropedia.astrogeology.usgs.gov/download/Mars/Viking/valles_marineris_enhanced.tif'}]"
      ]
     },
     "execution_count": 69,
     "metadata": {},
     "output_type": "execute_result"
    }
   ],
   "source": [
    "hemisphere_image_urls"
   ]
  },
  {
   "cell_type": "code",
   "execution_count": null,
   "metadata": {},
   "outputs": [],
   "source": []
  }
 ],
 "metadata": {
  "kernelspec": {
   "display_name": "Python 3",
   "language": "python",
   "name": "python3"
  },
  "language_info": {
   "codemirror_mode": {
    "name": "ipython",
    "version": 3
   },
   "file_extension": ".py",
   "mimetype": "text/x-python",
   "name": "python",
   "nbconvert_exporter": "python",
   "pygments_lexer": "ipython3",
   "version": "3.7.1"
  }
 },
 "nbformat": 4,
 "nbformat_minor": 2
}
